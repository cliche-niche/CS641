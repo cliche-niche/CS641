{
 "cells": [
  {
   "cell_type": "code",
   "execution_count": 40,
   "metadata": {},
   "outputs": [],
   "source": [
    "s = 'qmnjvsa nv wewc flct vprj tj tvvplvl fv xja vqildhc xmlnvc nacyclpa fc gyt vfvw. fv wgqyp, pqq pqcs y wsq rx qmnjvafy cgv tlvhf cw tyl aeuq fv xja tkbv cqnsqs. lhf avawnc cv eas fuqb qvq tc yllrqr xxwa cfy. psdc uqf avrqc gefq pyat trac xwv taa wwd dv eas flcbq. vd trawm vupq quw x decgqcwt, yq yafl vlqs yqklhq! snafq vml lhvqpawr nqg_vfusr_ec_wawy qp fn wgawdgf.'"
   ]
  },
  {
   "cell_type": "code",
   "execution_count": 41,
   "metadata": {},
   "outputs": [
    {
     "name": "stdout",
     "output_type": "stream",
     "text": [
      "qmnjvsanvwewcflctvprjtjtvvplvlfvxjavqildhcxmlnvcnacyclpafcgytvfvwfvwgqyppqqpqcsywsqrxqmnjvafycgvtlvhfcwtylaeuqfvxjatkbvcqnsqslhfavawnccveasfuqbqvqtcyllrqrxxwacfypsdcuqfavrqcgefqpyattracxwvtaawwddveasflcbqvdtrawmvupqquwxdecgqcwtyqyaflvlqsyqklhqsnafqvmllhvqpawrnqgvfusrecwawyqpfnwgawdgf\n"
     ]
    }
   ],
   "source": [
    "punc = ''' _.,!'''\n",
    "text=\"\"\n",
    "# Removing punctuations and space in string\n",
    "for ele in s:\n",
    "    if ele not in punc:\n",
    "        text+=ele\n",
    "         \n",
    "# printing result\n",
    "print(text)"
   ]
  },
  {
   "cell_type": "code",
   "execution_count": 42,
   "metadata": {},
   "outputs": [],
   "source": [
    "# To permute the text \n",
    "def permutation_cipher(permutation, encrypted_text):\n",
    "    permutated_text = \"\"\n",
    "    encrypted_text = encrypted_text[:len(encrypted_text) - (len(encrypted_text)%len(permutation)) ] #truncating the encrypted_text\n",
    "\n",
    "    for block in range(0, len(encrypted_text), len(permutation)):\n",
    "        for pos in permutation:\n",
    "            permutated_text += encrypted_text[block+(pos-1)]\n",
    "    return permutated_text\n",
    "\n"
   ]
  },
  {
   "cell_type": "code",
   "execution_count": 43,
   "metadata": {},
   "outputs": [],
   "source": [
    "from itertools import permutations\n",
    "\n",
    "# For block size = 4, trying all permutations\n",
    "\n",
    "for i in list(permutations(range(1, 5))): # list of permutations of [1, 2, 3, 4]\n",
    "    x = permutation_cipher(i, text)\n",
    "    password = (x[(text.find('lhvqpawr')):(text.find('lhvqpawr') + len('lhvqpawr'))]) #\"password\"\n",
    "    if password[2] == password[3]:\n",
    "        print(password)\n",
    "        print(i)\n"
   ]
  },
  {
   "cell_type": "code",
   "execution_count": 44,
   "metadata": {},
   "outputs": [
    {
     "name": "stdout",
     "output_type": "stream",
     "text": [
      "vqllwrnp\n",
      "(3, 4, 5, 1, 2)\n",
      "vqllwrna\n",
      "(3, 4, 5, 2, 1)\n",
      "qvllwnrp\n",
      "(3, 5, 4, 1, 2)\n",
      "qvllwnra\n",
      "(3, 5, 4, 2, 1)\n",
      "hqllrwnp\n",
      "(4, 3, 5, 1, 2)\n",
      "hqllrwna\n",
      "(4, 3, 5, 2, 1)\n",
      "qhllrnwp\n",
      "(4, 5, 3, 1, 2)\n",
      "qhllrnwa\n",
      "(4, 5, 3, 2, 1)\n",
      "hvllnwrp\n",
      "(5, 3, 4, 1, 2)\n",
      "hvllnwra\n",
      "(5, 3, 4, 2, 1)\n",
      "vhllnrwp\n",
      "(5, 4, 3, 1, 2)\n",
      "vhllnrwa\n",
      "(5, 4, 3, 2, 1)\n"
     ]
    }
   ],
   "source": [
    "# For block size = 5, trying all permutations\n",
    "\n",
    "for i in list(permutations(range(1, 6))): # permutations of [1, 2, 3, 4, 5]\n",
    "    x = permutation_cipher(i, text)\n",
    "    password = (x[(text.find('lhvqpawr')):(text.find('lhvqpawr') + len('lhvqpawr'))]) #\"password\"\n",
    "    if password[2] == password[3]:\n",
    "        print(password)\n",
    "        print(i)"
   ]
  },
  {
   "cell_type": "code",
   "execution_count": 45,
   "metadata": {},
   "outputs": [
    {
     "name": "stdout",
     "output_type": "stream",
     "text": [
      "afhvqllwrnp\n",
      "(3, 4, 5, 1, 2)\n",
      "afhqvllwnrp\n",
      "(3, 5, 4, 1, 2)\n",
      "afvhqllrwnp\n",
      "(4, 3, 5, 1, 2)\n",
      "afvqhllrnwp\n",
      "(4, 5, 3, 1, 2)\n",
      "afqhvllnwrp\n",
      "(5, 3, 4, 1, 2)\n",
      "afqvhllnrwp\n",
      "(5, 4, 3, 1, 2)\n"
     ]
    }
   ],
   "source": [
    "possible_permutation = []\n",
    "\n",
    "for i in list(permutations(range(1, 6))): # permutations of [1, 2, 3, 4, 5]\n",
    "    x = permutation_cipher(i, text)\n",
    "    password = (x[(text.find('vmllhvqpawr')):(text.find('vmllhvqpawr') + len('vmllhvqpawr'))]) #\"thepassword\"\n",
    "    if password[5] == password[6] and len(set(x[(text.find('vml')):(text.find('vml') + len('vml'))]).intersection(x[(text.find('lhvqpawr')):(text.find('lhvqpawr') + len('lhvqpawr'))])) == 0:\n",
    "        print(password)\n",
    "        print(i)\n",
    "        possible_permutation.append(i)"
   ]
  },
  {
   "cell_type": "code",
   "execution_count": 46,
   "metadata": {},
   "outputs": [
    {
     "name": "stdout",
     "output_type": "stream",
     "text": [
      "awgw\n",
      "(4, 3, 5, 1, 2)\n"
     ]
    }
   ],
   "source": [
    "cipher = []\n",
    "\n",
    "for i in possible_permutation:\n",
    "    x = permutation_cipher(i, text)\n",
    "    four_letters = (x[(text.find('qpfn')):(text.find('qpfn') + len('qpfn'))]) # \"go to\" or \"to go\" mapped to \"qp fn\"\n",
    "    if four_letters[1] == four_letters[3] and four_letters[0] != four_letters[2]:\n",
    "        print(four_letters)\n",
    "        print(i)\n",
    "        cipher.append(i)"
   ]
  },
  {
   "cell_type": "code",
   "execution_count": 47,
   "metadata": {},
   "outputs": [],
   "source": [
    "permutated_text = permutation_cipher(cipher[0], text)"
   ]
  },
  {
   "cell_type": "code",
   "execution_count": 48,
   "metadata": {},
   "outputs": [
    {
     "name": "stdout",
     "output_type": "stream",
     "text": [
      "jnvqmvnwsafclewpvrcttjvjtvllvpjxafvlidvqmxlhcncanvlcpcygcyafvfwtvgwqfvqpqypscypqrqxwsjnvqmcygafvlhvttwyfcueqlajxafvvbctkqssqnafvlhcncawsafveqbvuqyclqtrqxlrcafxwdscypafvuqgcerqypafqarctttvaxwdwdawsafveqbvlcarwdtpuqmvxwdquqgcecqyywtvllafqykqssqnlhvqmafvhqllrwnpafvuqgcewsrqypawgwafn\n"
     ]
    }
   ],
   "source": [
    "print(permutated_text)"
   ]
  },
  {
   "cell_type": "code",
   "execution_count": 49,
   "metadata": {},
   "outputs": [
    {
     "data": {
      "text/plain": [
       "'afvhqllrwnp'"
      ]
     },
     "execution_count": 49,
     "metadata": {},
     "output_type": "execute_result"
    }
   ],
   "source": [
    "permutated_text[(text.find('vmllhvqpawr')):(text.find('vmllhvqpawr') + len('vmllhvqpawr'))] "
   ]
  },
  {
   "cell_type": "code",
   "execution_count": 50,
   "metadata": {},
   "outputs": [],
   "source": [
    "# This is mapped to \"thepassword\"\n",
    "# So we got the initial mapping \n",
    "# a = t\n",
    "# f = h\n",
    "# v = e\n",
    "# h = p\n",
    "# q = a\n",
    "# l = s\n",
    "# r = w\n",
    "# w = o\n",
    "# n = r\n",
    "# p = d"
   ]
  },
  {
   "cell_type": "code",
   "execution_count": 51,
   "metadata": {},
   "outputs": [],
   "source": [
    "# Mapping after mono-substitution\n",
    "mapping = {\n",
    "'a' : 't',\n",
    "'b' : 'v',\n",
    "'c' : 'i',\n",
    "'d' : 'u',\n",
    "'e' : 'c',\n",
    "'f' : 'h',\n",
    "'g' : 'g',\n",
    "'h' : 'p',\n",
    "'i' : 'q',\n",
    "'j' : 'b',\n",
    "'k' : 'z',\n",
    "'l' : 's',\n",
    "'m' : 'k',\n",
    "'n' : 'r',\n",
    "'p' : 'd',\n",
    "'q' : 'a',\n",
    "'r' : 'w',\n",
    "'s' : 'f',\n",
    "'t' : 'l',\n",
    "'u' : 'm',\n",
    "'v' : 'e',\n",
    "'w' : 'o',\n",
    "'x' : 'y',\n",
    "'y' : 'n'\n",
    "}"
   ]
  },
  {
   "cell_type": "code",
   "execution_count": 52,
   "metadata": {},
   "outputs": [
    {
     "name": "stdout",
     "output_type": "stream",
     "text": [
      "breakerofthiscodewillbeblessedbythesqueakyspiritresidingintheholegoaheadandfindawayofbreakingthespellonhimcastbytheevilzaffarthespiritofthecavemanisalwayswithyoufindthemagicwandthatwillletyououtofthecavesitwouldmakeyouamagiciannolessthanzaffarspeakthepasswordthemagicofwandtogothr\n"
     ]
    }
   ],
   "source": [
    "decrypted_text = ''.join(mapping.get(ch, ch) for ch in permutated_text)\n",
    "\n",
    "print(decrypted_text)"
   ]
  }
 ],
 "metadata": {
  "kernelspec": {
   "display_name": "Python 3",
   "language": "python",
   "name": "python3"
  },
  "language_info": {
   "codemirror_mode": {
    "name": "ipython",
    "version": 3
   },
   "file_extension": ".py",
   "mimetype": "text/x-python",
   "name": "python",
   "nbconvert_exporter": "python",
   "pygments_lexer": "ipython3",
   "version": "3.11.0"
  },
  "orig_nbformat": 4,
  "vscode": {
   "interpreter": {
    "hash": "c261aea317cc0286b3b3261fbba9abdec21eaa57589985bb7a274bf54d6cc0a7"
   }
  }
 },
 "nbformat": 4,
 "nbformat_minor": 2
}
