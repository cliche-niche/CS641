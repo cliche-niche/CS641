{
 "cells": [
  {
   "cell_type": "code",
   "execution_count": 1,
   "metadata": {},
   "outputs": [],
   "source": [
    "input_file = \"input.txt\" \n",
    "max_lines_per_file = 200000000000 #INT_MAX\n",
    "output_file_prefix = \"input_to_server_\" \n",
    " \n",
    "with open(input_file, \"r\") as infile: \n",
    "    count = 0 \n",
    "    outfile = None \n",
    "    for line in infile: \n",
    "        if count % max_lines_per_file == 0: \n",
    "            if outfile:\n",
    "                outfile.write(\"back\\n\")\n",
    "                outfile.write(\"exit\\n\") \n",
    "                outfile.close() \n",
    "            outfile = open(output_file_prefix + str(count // max_lines_per_file) + \".txt\", \"w\") \n",
    "            outfile.write(\"cap_turing\\n\")\n",
    "            outfile.write(\"re_leasing89\\n\")\n",
    "            outfile.write(\"4\\n\")\n",
    "            outfile.write(\"read\\n\")\n",
    "        outfile.write(line) \n",
    "        outfile.write(\"c\\n\")\n",
    "        count += 1 \n",
    "    if outfile: \n",
    "        outfile.write(\"back\\n\")\n",
    "        outfile.write(\"exit\\n\")\n",
    "        outfile.close()"
   ]
  }
 ],
 "metadata": {
  "kernelspec": {
   "display_name": "Python 3",
   "language": "python",
   "name": "python3"
  },
  "language_info": {
   "codemirror_mode": {
    "name": "ipython",
    "version": 3
   },
   "file_extension": ".py",
   "mimetype": "text/x-python",
   "name": "python",
   "nbconvert_exporter": "python",
   "pygments_lexer": "ipython3",
   "version": "3.10.9"
  },
  "orig_nbformat": 4
 },
 "nbformat": 4,
 "nbformat_minor": 2
}
